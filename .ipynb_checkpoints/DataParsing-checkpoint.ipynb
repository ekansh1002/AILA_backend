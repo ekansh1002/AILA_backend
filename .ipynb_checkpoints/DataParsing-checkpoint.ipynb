{
 "cells": [
  {
   "cell_type": "code",
   "execution_count": 8,
   "id": "cdca20df",
   "metadata": {},
   "outputs": [
    {
     "name": "stderr",
     "output_type": "stream",
     "text": [
      "IOPub data rate exceeded.\n",
      "The notebook server will temporarily stop sending output\n",
      "to the client in order to avoid crashing it.\n",
      "To change this limit, set the config variable\n",
      "`--NotebookApp.iopub_data_rate_limit`.\n",
      "\n",
      "Current values:\n",
      "NotebookApp.iopub_data_rate_limit=1000000.0 (bytes/sec)\n",
      "NotebookApp.rate_limit_window=3.0 (secs)\n",
      "\n"
     ]
    }
   ],
   "source": [
    "import os\n",
    "\n",
    "# Specify the directory containing your files\n",
    "directory = r\"C:\\Users\\91938\\Desktop\\dataset\\Object_casedocs\"\n",
    "\n",
    "# List all files in the directory\n",
    "files = os.listdir(directory)\n",
    "\n",
    "# Loop through each file in the directory\n",
    "for filename in files:\n",
    "    # Check if the file is a text file (adjust as needed for other formats)\n",
    "    if filename.endswith('.txt'):\n",
    "        # Construct the full path to the file\n",
    "        filepath = os.path.join(directory, filename)\n",
    "        \n",
    "        # Open the file for reading\n",
    "        with open(filepath, 'r') as file:\n",
    "            # Read and process the file contents\n",
    "            data = file.read()\n",
    "            # Process the data as needed\n",
    "            print(f\"File {filename}: {data}\")\n"
   ]
  },
  {
   "cell_type": "code",
   "execution_count": null,
   "id": "c22079af",
   "metadata": {},
   "outputs": [],
   "source": []
  }
 ],
 "metadata": {
  "kernelspec": {
   "display_name": "Python 3 (ipykernel)",
   "language": "python",
   "name": "python3"
  },
  "language_info": {
   "codemirror_mode": {
    "name": "ipython",
    "version": 3
   },
   "file_extension": ".py",
   "mimetype": "text/x-python",
   "name": "python",
   "nbconvert_exporter": "python",
   "pygments_lexer": "ipython3",
   "version": "3.11.3"
  }
 },
 "nbformat": 4,
 "nbformat_minor": 5
}
