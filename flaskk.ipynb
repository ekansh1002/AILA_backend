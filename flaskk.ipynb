{
 "cells": [
  {
   "cell_type": "code",
   "execution_count": 1,
   "id": "21490b19",
   "metadata": {},
   "outputs": [],
   "source": [
    "app_py_content = \"\"\"\n",
    "from flask import Flask, request, jsonify\n",
    "import os\n",
    "import string\n",
    "import re\n",
    "import torch\n",
    "from nltk.tokenize import word_tokenize\n",
    "from nltk.stem import PorterStemmer, WordNetLemmatizer\n",
    "from transformers import BertModel, BertTokenizer, BartForConditionalGeneration, BartTokenizer\n",
    "from sklearn.metrics.pairwise import cosine_similarity\n",
    "from preprocess import preprocess_text\n",
    "\n",
    "app = Flask(__name__)\n",
    "\n",
    "# Load the BERT tokenizer and model\n",
    "tokenizer = BertTokenizer.from_pretrained('bert-base-uncased')\n",
    "model = BertModel.from_pretrained('bert-base-uncased')\n",
    "\n",
    "# Load the BART model and tokenizer for summarization\n",
    "bart_tokenizer = BartTokenizer.from_pretrained(\"facebook/bart-large-cnn\")\n",
    "bart_model = BartForConditionalGeneration.from_pretrained(\"facebook/bart-large-cnn\")\n",
    "\n",
    "# Directory containing your legal case documents\n",
    "directory = r\"C:\\\\Users\\\\91938\\\\Desktop\\\\dataset\\\\Object_casedocs\"\n",
    "\n",
    "# List to store preprocessed texts and labels\n",
    "texts = []\n",
    "document_embeddings = []\n",
    "\n",
    "# Loop through each file in the directory and preprocess\n",
    "for filename in os.listdir(directory):\n",
    "    if filename.endswith('.txt'):\n",
    "        filepath = os.path.join(directory, filename)\n",
    "        with open(filepath, 'r', encoding='utf-8') as file:\n",
    "            data = file.read()\n",
    "            preprocessed_text = preprocess_text(data)\n",
    "            texts.append(preprocessed_text)\n",
    "            encoded_text = tokenizer(preprocessed_text, truncation=True, padding='max_length', max_length=128, return_tensors='pt')\n",
    "            with torch.no_grad():\n",
    "                outputs = model(**encoded_text)\n",
    "                pooled_output = outputs.pooler_output\n",
    "                document_embeddings.append(pooled_output.squeeze().cpu().detach().numpy())\n",
    "\n",
    "@app.route('/query', methods=['POST'])\n",
    "def handle_query():\n",
    "    query_text = request.json.get('query')\n",
    "    if not query_text:\n",
    "        return jsonify({'error': 'Query text is required.'}), 400\n",
    "\n",
    "    preprocessed_query = preprocess_text(query_text)\n",
    "    encoded_query = tokenizer(preprocessed_query, truncation=True, padding='max_length', max_length=128, return_tensors='pt')\n",
    "    with torch.no_grad():\n",
    "        outputs = model(**encoded_query)\n",
    "        query_embedding = outputs.pooler_output.cpu().detach().numpy()\n",
    "\n",
    "    similarity_scores = cosine_similarity(query_embedding, document_embeddings)\n",
    "    top_k = 5\n",
    "    top_documents_indices = similarity_scores.argsort()[0][-top_k:][::-1]\n",
    "\n",
    "    similar_documents = []\n",
    "    for idx in top_documents_indices:\n",
    "        document = texts[idx]\n",
    "        inputs = bart_tokenizer([document], max_length=1024, return_tensors='pt', truncation=True)\n",
    "        summary_ids = bart_model.generate(inputs['input_ids'], max_length=150, num_beams=4, early_stopping=True)\n",
    "        summary = bart_tokenizer.decode(summary_ids[0], skip_special_tokens=True)\n",
    "        similarity_score = similarity_scores[0][idx]\n",
    "        similar_documents.append({'similarity_score': similarity_score, 'summary': summary})\n",
    "\n",
    "    return jsonify({'similar_documents': similar_documents})\n",
    "\n",
    "if __name__ == '__main__':\n",
    "    app.run(debug=True)\n",
    "\"\"\"\n",
    "\n",
    "with open('app.py', 'w') as file:\n",
    "    file.write(app_py_content)\n",
    "\n",
    "preprocess_py_content = \"\"\"\n",
    "import re\n",
    "import string\n",
    "from nltk.tokenize import word_tokenize\n",
    "from nltk.stem import PorterStemmer, WordNetLemmatizer\n",
    "\n",
    "def preprocess_text(text):\n",
    "    text = text.lower()\n",
    "    text = re.sub(r'\\\\d+', 'NUM', text)\n",
    "    text = text.translate(str.maketrans('', '', string.punctuation))\n",
    "    tokens = word_tokenize(text)\n",
    "    stemmer = PorterStemmer()\n",
    "    lemmatizer = WordNetLemmatizer()\n",
    "    stemmed_words = [stemmer.stem(word) for word in tokens]\n",
    "    lemmatized_words = [lemmatizer.lemmatize(word) for word in tokens]\n",
    "    return ' '.join(stemmed_words)\n",
    "\"\"\"\n",
    "\n",
    "with open('preprocess.py', 'w') as file:\n",
    "    file.write(preprocess_py_content)\n"
   ]
  },
  {
   "cell_type": "code",
   "execution_count": 2,
   "id": "47a2a59c",
   "metadata": {},
   "outputs": [
    {
     "name": "stdout",
     "output_type": "stream",
     "text": [
      " * Serving Flask app 'app'\n",
      " * Debug mode: on\n"
     ]
    },
    {
     "name": "stderr",
     "output_type": "stream",
     "text": [
      "WARNING: This is a development server. Do not use it in a production deployment. Use a production WSGI server instead.\n",
      " * Running on http://127.0.0.1:5000\n",
      "Press CTRL+C to quit\n",
      " * Restarting with stat\n"
     ]
    },
    {
     "ename": "SystemExit",
     "evalue": "1",
     "output_type": "error",
     "traceback": [
      "An exception has occurred, use %tb to see the full traceback.\n",
      "\u001b[1;31mSystemExit\u001b[0m\u001b[1;31m:\u001b[0m 1\n"
     ]
    }
   ],
   "source": [
    "%run app.py"
   ]
  },
  {
   "cell_type": "code",
   "execution_count": null,
   "id": "9ff32039",
   "metadata": {},
   "outputs": [],
   "source": []
  }
 ],
 "metadata": {
  "kernelspec": {
   "display_name": "Python 3 (ipykernel)",
   "language": "python",
   "name": "python3"
  },
  "language_info": {
   "codemirror_mode": {
    "name": "ipython",
    "version": 3
   },
   "file_extension": ".py",
   "mimetype": "text/x-python",
   "name": "python",
   "nbconvert_exporter": "python",
   "pygments_lexer": "ipython3",
   "version": "3.11.3"
  }
 },
 "nbformat": 4,
 "nbformat_minor": 5
}
