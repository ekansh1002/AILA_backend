{
 "cells": [
  {
   "cell_type": "code",
   "execution_count": 1,
   "id": "72f9ab99",
   "metadata": {
    "scrolled": true
   },
   "outputs": [],
   "source": [
    "app_py_content = \"\"\"\n",
    "from flask import Flask, request, jsonify\n",
    "import os\n",
    "import string\n",
    "import re\n",
    "import torch\n",
    "from nltk.tokenize import word_tokenize\n",
    "from nltk.stem import PorterStemmer, WordNetLemmatizer\n",
    "from transformers import BertModel, BertTokenizer, BartForConditionalGeneration, BartTokenizer\n",
    "from sklearn.metrics.pairwise import cosine_similarity\n",
    "from preprocess import preprocess_text\n",
    "\n",
    "app = Flask(__name__)\n",
    "\n",
    "@app.route('/query', methods=['POST'])\n",
    "def handle_query():\n",
    "    query_text = request.json.get('query')\n",
    "    if not query_text:\n",
    "        return jsonify({'error': 'Query text is required.'}), 400\n",
    "\n",
    "    # Preprocess and tokenize the query\n",
    "    preprocessed_query = preprocess_text(query_text)\n",
    "    encoded_query = tokenizer(preprocessed_query, truncation=True, padding='max_length', max_length=128, return_tensors='pt')\n",
    "\n",
    "    # Process the query with the fine-tuned BERT model to obtain query embedding\n",
    "    with torch.no_grad():\n",
    "        outputs = model(**encoded_query)\n",
    "        query_embedding = outputs.pooler_output.cpu().detach().numpy()  # Get the query embedding\n",
    "\n",
    "    # Compute cosine similarity between query and document embeddings\n",
    "    similarity_scores = cosine_similarity(query_embedding, document_embeddings)\n",
    "\n",
    "    # Rank and retrieve top similar/relevant documents\n",
    "    top_k = 5  # Number of top documents to retrieve\n",
    "    top_documents_indices = similarity_scores.argsort()[0][-top_k:][::-1]\n",
    "\n",
    "    # Generate summaries of top similar documents\n",
    "    similar_documents = []\n",
    "    for idx in top_documents_indices:\n",
    "        document = texts[idx]\n",
    "\n",
    "        # Generate summary using BART\n",
    "        inputs = bart_tokenizer([document], max_length=1024, return_tensors='pt', truncation=True)\n",
    "        summary_ids = bart_model.generate(inputs['input_ids'], max_length=150, num_beams=4, early_stopping=True)\n",
    "        summary = bart_tokenizer.decode(summary_ids[0], skip_special_tokens=True)\n",
    "\n",
    "        # Add similarity score and summary to the list\n",
    "        similarity_score = similarity_scores[0][idx]\n",
    "        similar_documents.append({'similarity_score': similarity_score, 'summary': summary})\n",
    "\n",
    "    return jsonify({'similar_documents': similar_documents})\n",
    "\n",
    "if __name__ == '__main__':\n",
    "    app.run(debug=True)\n",
    "\"\"\"\n",
    "\n",
    "with open('app.py', 'w') as file:\n",
    "    file.write(app_py_content)"
   ]
  },
  {
   "cell_type": "code",
   "execution_count": 2,
   "id": "15a12d44",
   "metadata": {},
   "outputs": [],
   "source": [
    "preprocess_py_content = \"\"\"\n",
    "import re\n",
    "from nltk.tokenize import word_tokenize\n",
    "from nltk.stem import PorterStemmer\n",
    "\n",
    "def preprocess_text(text):\n",
    "    text = text.lower()\n",
    "    text = re.sub(r'\\\\d+', 'NUM', text)\n",
    "    text = text.translate(str.maketrans('', '', string.punctuation))\n",
    "    tokens = word_tokenize(text)\n",
    "    stemmer = PorterStemmer()\n",
    "    stemmed_words = [stemmer.stem(word) for word in tokens]\n",
    "    return stemmed_words\n",
    "\"\"\"\n",
    "\n",
    "with open('preprocess.py', 'w') as file:\n",
    "    file.write(preprocess_py_content)"
   ]
  },
  {
   "cell_type": "code",
   "execution_count": 3,
   "id": "6e9126b4",
   "metadata": {},
   "outputs": [
    {
     "ename": "SyntaxError",
     "evalue": "invalid syntax (945115591.py, line 1)",
     "output_type": "error",
     "traceback": [
      "\u001b[1;36m  Cell \u001b[1;32mIn[3], line 1\u001b[1;36m\u001b[0m\n\u001b[1;33m    python app.py\u001b[0m\n\u001b[1;37m           ^\u001b[0m\n\u001b[1;31mSyntaxError\u001b[0m\u001b[1;31m:\u001b[0m invalid syntax\n"
     ]
    }
   ],
   "source": [
    "python app.py"
   ]
  }
 ],
 "metadata": {
  "kernelspec": {
   "display_name": "Python 3 (ipykernel)",
   "language": "python",
   "name": "python3"
  },
  "language_info": {
   "codemirror_mode": {
    "name": "ipython",
    "version": 3
   },
   "file_extension": ".py",
   "mimetype": "text/x-python",
   "name": "python",
   "nbconvert_exporter": "python",
   "pygments_lexer": "ipython3",
   "version": "3.11.3"
  }
 },
 "nbformat": 4,
 "nbformat_minor": 5
}
